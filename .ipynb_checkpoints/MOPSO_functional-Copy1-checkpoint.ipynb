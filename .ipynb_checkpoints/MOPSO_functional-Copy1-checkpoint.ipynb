{
 "cells": [
  {
   "cell_type": "code",
   "execution_count": 1,
   "id": "84e1e7d9-fe7b-47d0-a10c-89a48c597564",
   "metadata": {},
   "outputs": [],
   "source": [
    "from Test_Functions import *\n",
    "import numpy as np\n",
    "\n",
    "from Mat_cost import *\n",
    "from Mat_pos import *\n",
    "from Mat_grid_index import *\n",
    "from Mat_dom import *\n",
    "\n",
    "# Define Optimization Problem\n",
    "Prueba = dtlz3()\n",
    "Test_function = Prueba.Test_function\n",
    "\n",
    "problem = {\n",
    "        'CostFunction': Test_function,\n",
    "        'nVar': 3,\n",
    "        'VarMin': 0,   # Alternatively you can use a \"numpy array\" with nVar elements, instead of scalar\n",
    "        'VarMax': 1,    # Alternatively you can use a \"numpy array\" with nVar elements, instead of scalar\n",
    "    };\n",
    "\n",
    "# Define Optimization Problem\n",
    "Prueba = dtlz3()\n",
    "Test_function = Prueba.Test_function\n",
    "\n",
    "MaxIter = 40\n",
    "nPop    = 20\n",
    "w1      = 0.1\n",
    "w2      = 0.5\n",
    "e       = 0.001\n",
    "c1      = 1.5\n",
    "c2      = 2\n",
    "nGrid   = 7\n",
    "alpha   = 0.1\n",
    "wdamp   = 0.99\n",
    "r1      = 0\n",
    "r2      = 1\n",
    "e_file  = []\n",
    "\n",
    "# Initialization: Empty Particle Template\n",
    "empty_particle = {\n",
    "    'position': None,\n",
    "    'velocity': None,\n",
    "    'cost': None,\n",
    "    'best_position': None,\n",
    "    'best_cost': None,\n",
    "    'is_dominated': None,\n",
    "    'grid_index': None,\n",
    "    'grid_subindex': None,\n",
    "    'crowding_distance': None,\n",
    "    };\n",
    "\n",
    " # Extract Problem Info\n",
    "Prueba = dtlz3()\n",
    "CostFunction = Prueba.Test_function\n",
    "\n",
    "VarMin = problem['VarMin'];\n",
    "VarMax = problem['VarMax'];\n",
    "nVar = problem['nVar'];\n",
    "\n",
    " # Initialize Global Best\n",
    "gbest = {'position': None, 'cost': np.inf}\n",
    "pop = []\n",
    "\n",
    "for i in range(0, nPop):\n",
    "    pop.append(empty_particle.copy());\n",
    "    pop[i]['position'] = np.random.uniform(VarMin, VarMax, nVar);\n",
    "    pop[i]['velocity'] = np.zeros(nVar);\n",
    "    \n",
    "pop[0]['position'] = np.array([0.7806,0.6753,0.0067]);\n",
    "pop[1]['position'] = np.array([0.6022,0.3868,0.9160]);\n",
    "pop[2]['position'] = np.array([0.0012,0.4624,0.4243]);\n",
    "pop[3]['position'] = np.array([0.4609,0.7702,0.3225]);\n",
    "pop[4]['position'] = np.array([0.7847,0.4714,0.0358]);\n",
    "pop[5]['position'] = np.array([0.1759,0.7218,0.4735]);\n",
    "pop[6]['position'] = np.array([0.1527,0.3411,0.6074]);\n",
    "pop[7]['position'] = np.array([0.1917,0.7384,0.2428]);\n",
    "pop[8]['position'] = np.array([0.9174,0.2691,0.7655]);\n",
    "pop[9]['position'] = np.array([0.1887,0.2875,0.0911]);\n",
    "pop[10]['position'] = np.array([0.5762,0.6834,0.5466]);\n",
    "pop[11]['position'] = np.array([0.4257,0.6444,0.6476]);\n",
    "pop[12]['position'] = np.array([0.6790,0.6358,0.9452]);\n",
    "pop[13]['position'] = np.array([0.2089,0.7093,0.2362]);\n",
    "pop[14]['position'] = np.array([0.1194,0.6073,0.4501]);\n",
    "pop[15]['position'] = np.array([0.4587,0.6619,0.7703]);\n",
    "pop[16]['position'] = np.array([0.3502,0.6620,0.4162]);\n",
    "pop[17]['position'] = np.array([0.8419,0.8329,0.2564]);\n",
    "pop[18]['position'] = np.array([0.6135,0.5822,0.5407]);\n",
    "pop[19]['position'] = np.array([0.8699,0.2648,0.3181]);\n",
    "\n",
    "for i in range(0, nPop):\n",
    "    pop[i]['cost'] = CostFunction(pop[i]['position']);\n",
    "    pop[i]['best_position'] = pop[i]['position'].copy();\n",
    "    pop[i]['best_cost'] = pop[i]['cost'];\n",
    "  \n",
    "from scipy.io import loadmat\n",
    "data = loadmat(\"MOPSO_trial.mat\")\n",
    "\n",
    "C1_mat = np.round(data[\"C1_mat\"],4)\n",
    "C2_mat = np.round(data[\"C2_mat\"],4)\n",
    "R1_mat = np.round(data[\"R1_mat\"],4)\n",
    "R2_mat = np.round(data[\"R2_mat\"],4)\n",
    "W_mat = np.round(data[\"W_mat\"],4)\n",
    "New_Solution = np.round(data[\"New_Solution\"],4)\n",
    "\n",
    "\n",
    "# Define which particles dominates over the others\n",
    "from Domination import determine_domination\n",
    "\n",
    "pop = determine_domination(pop)\n",
    "\n",
    "from copy import deepcopy\n",
    "\n",
    "rep = []\n",
    "\n",
    "for i in range(0, len(pop)):\n",
    "    if pop[i]['is_dominated'] == 0:\n",
    "        rep.append(deepcopy(pop[i]))\n",
    "        \n",
    "# Grid=CreateGrid(pop,nGrid,alpha)\n",
    "from cre_grid import CreateGrid\n",
    "Grid_LB, Grid_UB = CreateGrid(rep, nGrid, alpha)\n",
    "\n",
    "from FGI import FindGridIndex\n",
    "\n",
    "for i in range(0,len(rep)):\n",
    "    rep[i] = FindGridIndex(rep[i], Grid_LB, Grid_UB)\n",
    "    \n",
    "from Sel_Leader import SelectLeader\n",
    "from mutate import mutate\n",
    "from Dominate import Dominate\n",
    "from Crow_leaders import crowding_leaders\n",
    "from Dominate_rep import DominateRepository\n",
    "from Dominate_best import Dominate_best\n",
    "from Rep_dominance import Repository_dominance\n",
    "from Dominate_pop import Dominate_pop"
   ]
  },
  {
   "cell_type": "code",
   "execution_count": 2,
   "id": "a71873a8-f9d7-4a8f-aee3-710b1d3f7a7f",
   "metadata": {},
   "outputs": [],
   "source": [
    "for it in range (0, MaxIter):\n",
    "\n",
    "    mutation = np.zeros((nPop,1))\n",
    "\n",
    "    leader, rep = SelectLeader(rep,nPop)\n",
    "\n",
    "    for i in range(0, nPop):\n",
    "\n",
    "        W = W_mat[i,:,it]\n",
    "        C1 = C1_mat[i,:,it]\n",
    "        C2 = C2_mat[i,:,it]\n",
    "        R1 = R1_mat[i,:,it]\n",
    "        R2 = R2_mat[i,:,it]\n",
    "\n",
    "        pop[i]['velocity'] = W * pop[i]['velocity'].copy() + \\\n",
    "            (R1 * C1 * (pop[i]['best_position'].copy()-pop[i]['position'].copy())) + \\\n",
    "            (R2 * C2 * (leader['position'].copy()-pop[i]['position'].copy()))       \n",
    "\n",
    "        pop[i]['position'] =  pop[i]['position'] +  pop[i]['velocity']\n",
    "        pop[i]['position'] =  np.fmax(pop[i]['position'], VarMin)                            \n",
    "        pop[i]['position'] =  np.fmin(pop[i]['position'], VarMax)                            \n",
    "\n",
    "                    #pop[i]['cost'] =  CostFunction(pop[i]['position'])\n",
    "        pop[i]['cost'] = CostFunction(pop[i]['position'])\n",
    "\n",
    "        mu = 1/len(pop[0]['position'])\n",
    "        a  = 1 \n",
    "        pm = (1-(it)/(MaxIter-1))**(a/mu)\n",
    "\n",
    "        NewSol, mutation = mutate(pop[i]['position'].copy(), pm, VarMin, VarMax, i, mutation)\n",
    "        NewSol['position'] = deepcopy(New_Solution[i,:,it])\n",
    "        #NewSol_pos = New_Solution[i,:,it]\n",
    "        NewSol['cost'] =  deepcopy(CostFunction(NewSol['position'].copy()))\n",
    "\n",
    "        if Dominate(NewSol, pop[i]):\n",
    "        #if Dominate_pop(NewSol_cost, pop[i]):\n",
    "            pop[i]['position'] = NewSol['position'].copy()\n",
    "            #pop[i]['position'] = NewSol_pos\n",
    "            pop[i]['cost'] = NewSol['cost'].copy()\n",
    "            #pop[i]['cost'] = NewSol_cost \n",
    "                                    # Guardar\n",
    "        if Dominate_best(pop[i], pop[i]['best_cost'].copy()):\n",
    "            pop[i]['best_position'] = pop[i]['position'].copy()\n",
    "            pop[i]['best_cost'] = pop[i]['cost'].copy()\n",
    "\n",
    "     # Outer Loop. Contrast between iterations\n",
    "    # 5.0 Add Non-Dominated Particles to REPOSITORY\n",
    "    for i in range(0,len(pop)):\n",
    "        if pop[i]['is_dominated'] == 0:\n",
    "            rep.append(pop[i].copy())\n",
    "\n",
    "        #5.1- Update leaders: if the repository size > swarm size keep only the best measuring crowding values Pareto comparison\n",
    "        ## 5.1.- Determine Domination of New Resository Members\n",
    "    rep = determine_domination(rep)\n",
    "\n",
    "    ## 5.2.- Keep only Non-Dominated Memebrs in the Repository\n",
    "    rep = [sub for sub in rep if sub['is_dominated'] == 0]\n",
    "\n",
    "    ## 5.3.- Crowding distance  \n",
    "    if len(rep) > nPop:\n",
    "        rep = crowding_leaders (rep, nPop)    \n",
    "\n",
    "    ## 5.4.- Update Grid\n",
    "    Grid_LB, Grid_UB = CreateGrid(rep, nGrid, alpha)\n",
    "\n",
    "    ## 5.5.- Update Grid Indices\n",
    "    for i in range(0,len(rep)):\n",
    "        rep[i] = FindGridIndex(rep[i], Grid_LB, Grid_UB)\n",
    "\n",
    "    ## 6.- Update e final values\n",
    "    # Uso of e dominance: Contain the file with the non dominant solutions reported by the algoritm\n",
    "    e_file, rep = Repository_dominance(rep,e_file,e)"
   ]
  },
  {
   "cell_type": "code",
   "execution_count": 3,
   "id": "84c35084-c9ce-4d04-816a-9e8fca94ddbf",
   "metadata": {},
   "outputs": [
    {
     "data": {
      "text/plain": [
       "119"
      ]
     },
     "execution_count": 3,
     "metadata": {},
     "output_type": "execute_result"
    }
   ],
   "source": [
    "len(e_file)"
   ]
  },
  {
   "cell_type": "code",
   "execution_count": 6,
   "id": "26849248-e69b-4f99-a244-f751b9ee6763",
   "metadata": {},
   "outputs": [
    {
     "data": {
      "text/plain": [
       "array([[[0.4497, 0.735 , 0.6467]],\n",
       "\n",
       "       [[0.5988, 0.583 , 0.5845]],\n",
       "\n",
       "       [[0.6828, 0.7255, 0.1226]],\n",
       "\n",
       "       [[0.4198, 0.7981, 0.4593]],\n",
       "\n",
       "       [[0.5468, 0.5893, 0.6843]],\n",
       "\n",
       "       [[0.4736, 0.8514, 0.2322]],\n",
       "\n",
       "       [[0.7376, 0.6428, 0.2086]],\n",
       "\n",
       "       [[0.4721, 0.87  , 0.2355]],\n",
       "\n",
       "       [[0.5439, 0.438 , 0.735 ]],\n",
       "\n",
       "       [[0.7322, 0.6425, 0.2336]],\n",
       "\n",
       "       [[0.4559, 0.7373, 0.4991]],\n",
       "\n",
       "       [[0.5091, 0.7625, 0.4061]],\n",
       "\n",
       "       [[0.4746, 0.7038, 0.6142]],\n",
       "\n",
       "       [[0.5045, 0.8526, 0.2576]],\n",
       "\n",
       "       [[0.5697, 0.8034, 0.1869]],\n",
       "\n",
       "       [[0.4867, 0.7488, 0.4925]],\n",
       "\n",
       "       [[0.5056, 0.7835, 0.3744]],\n",
       "\n",
       "       [[0.2817, 0.6845, 0.708 ]],\n",
       "\n",
       "       [[0.515 , 0.6906, 0.5078]],\n",
       "\n",
       "       [[0.6181, 0.4892, 0.6368]]])"
      ]
     },
     "execution_count": 6,
     "metadata": {},
     "output_type": "execute_result"
    }
   ],
   "source": [
    "mat_cost(pop)"
   ]
  },
  {
   "cell_type": "code",
   "execution_count": 8,
   "id": "d436ff8d-5596-42f2-87e4-e85c3d42bef2",
   "metadata": {},
   "outputs": [],
   "source": [
    "nPop        = len(e_file) # tamano del repositorio   \n",
    "\n",
    "for i in range(0,nPop-1):\n",
    "    for j in range(i + 1, nPop):\n",
    "\n",
    "    # Calculo de indeces de caja\n",
    "        cost_i     =  e_file[i]['cost'];\n",
    "        cost_j     =  e_file[j]['cost'];\n",
    "\n",
    "        box_i = np.log(cost_i)/ (np.log(1+e))\n",
    "        box_j = np.log(cost_j)/ (np.log(1+e))\n",
    "\n",
    "         ## Dominancia para encontrar el minimo global\n",
    "\n",
    "        # Primera comparacion: Si las medidas de box son parecidas.\n",
    "        if (box_i<=box_j).all() & (box_i<box_j).any():\n",
    "            e_file[j]['is_dominated'] = 1\n",
    "\n",
    "        # Segunda comparacion: Si las medidas de box son iguales pero los\n",
    "        # valores de la nueva particula son mejores, borra la particula\n",
    "        # anterior (comparacion de misma casilla)\n",
    "        elif (box_i==box_j).all() & ((cost_i<=cost_j).all() & (cost_i<cost_j).any()).all():\n",
    "            e_file[j]['is_dominated'] = 1"
   ]
  },
  {
   "cell_type": "code",
   "execution_count": 9,
   "id": "d4fcec0c-5793-4a10-a98a-224c0a5aa6ff",
   "metadata": {},
   "outputs": [
    {
     "data": {
      "text/plain": [
       "[0, 0, 0, 0, 0, 0, 0, 0, 0, 0, 0, 0, 0, 0, 0, 0, 0, 0]"
      ]
     },
     "execution_count": 9,
     "metadata": {},
     "output_type": "execute_result"
    }
   ],
   "source": [
    "mat_dom(e_file)"
   ]
  },
  {
   "cell_type": "code",
   "execution_count": 71,
   "id": "7c9a4fd9-57c3-4264-b0cf-ee3a8b944bb8",
   "metadata": {},
   "outputs": [],
   "source": [
    "e_file  = []\n",
    "\n",
    "for i in range(0, len(rep)):\n",
    "    e_file.append(rep[i].copy())\n",
    "\n",
    "\n",
    "from Det_Dom_Rep import DetermineDominationRepository\n",
    "from Dominate_rep import DominateRepository\n",
    "\n",
    "repository = deepcopy(e_file) # repositorio actual\n",
    "nPop = len(repository)\n",
    "\n",
    "for i in range(0, nPop):\n",
    "    repository[i]['is_dominated'] = 0"
   ]
  },
  {
   "cell_type": "code",
   "execution_count": 76,
   "id": "f4cdff2b-7efa-48b2-b4b3-14e4e86b0c10",
   "metadata": {},
   "outputs": [],
   "source": [
    "i=5\n",
    "j=5"
   ]
  },
  {
   "cell_type": "code",
   "execution_count": 78,
   "id": "0e84c53f-e718-4ea1-b494-d2e79e3bbf28",
   "metadata": {},
   "outputs": [],
   "source": [
    "vec_dom = np.zeros((nPop,nPop))\n",
    "\n",
    "for i in range (0, nPop-1):\n",
    "        for j in range(i+1, nPop):\n",
    "            \n",
    "            vec_dom[i,j] = 1            \n",
    "\n",
    "\n"
   ]
  },
  {
   "cell_type": "code",
   "execution_count": 79,
   "id": "429aff49-a330-46a5-a84d-6487e04438d8",
   "metadata": {},
   "outputs": [
    {
     "data": {
      "text/plain": [
       "array([[0., 1., 1., 1., 1., 1., 1., 1., 1., 1., 1., 1., 1., 1., 1., 1.,\n",
       "        1., 1., 1., 1.],\n",
       "       [0., 0., 1., 1., 1., 1., 1., 1., 1., 1., 1., 1., 1., 1., 1., 1.,\n",
       "        1., 1., 1., 1.],\n",
       "       [0., 0., 0., 1., 1., 1., 1., 1., 1., 1., 1., 1., 1., 1., 1., 1.,\n",
       "        1., 1., 1., 1.],\n",
       "       [0., 0., 0., 0., 1., 1., 1., 1., 1., 1., 1., 1., 1., 1., 1., 1.,\n",
       "        1., 1., 1., 1.],\n",
       "       [0., 0., 0., 0., 0., 1., 1., 1., 1., 1., 1., 1., 1., 1., 1., 1.,\n",
       "        1., 1., 1., 1.],\n",
       "       [0., 0., 0., 0., 0., 0., 1., 1., 1., 1., 1., 1., 1., 1., 1., 1.,\n",
       "        1., 1., 1., 1.],\n",
       "       [0., 0., 0., 0., 0., 0., 0., 1., 1., 1., 1., 1., 1., 1., 1., 1.,\n",
       "        1., 1., 1., 1.],\n",
       "       [0., 0., 0., 0., 0., 0., 0., 0., 1., 1., 1., 1., 1., 1., 1., 1.,\n",
       "        1., 1., 1., 1.],\n",
       "       [0., 0., 0., 0., 0., 0., 0., 0., 0., 1., 1., 1., 1., 1., 1., 1.,\n",
       "        1., 1., 1., 1.],\n",
       "       [0., 0., 0., 0., 0., 0., 0., 0., 0., 0., 1., 1., 1., 1., 1., 1.,\n",
       "        1., 1., 1., 1.],\n",
       "       [0., 0., 0., 0., 0., 0., 0., 0., 0., 0., 0., 1., 1., 1., 1., 1.,\n",
       "        1., 1., 1., 1.],\n",
       "       [0., 0., 0., 0., 0., 0., 0., 0., 0., 0., 0., 0., 1., 1., 1., 1.,\n",
       "        1., 1., 1., 1.],\n",
       "       [0., 0., 0., 0., 0., 0., 0., 0., 0., 0., 0., 0., 0., 1., 1., 1.,\n",
       "        1., 1., 1., 1.],\n",
       "       [0., 0., 0., 0., 0., 0., 0., 0., 0., 0., 0., 0., 0., 0., 1., 1.,\n",
       "        1., 1., 1., 1.],\n",
       "       [0., 0., 0., 0., 0., 0., 0., 0., 0., 0., 0., 0., 0., 0., 0., 1.,\n",
       "        1., 1., 1., 1.],\n",
       "       [0., 0., 0., 0., 0., 0., 0., 0., 0., 0., 0., 0., 0., 0., 0., 0.,\n",
       "        1., 1., 1., 1.],\n",
       "       [0., 0., 0., 0., 0., 0., 0., 0., 0., 0., 0., 0., 0., 0., 0., 0.,\n",
       "        0., 1., 1., 1.],\n",
       "       [0., 0., 0., 0., 0., 0., 0., 0., 0., 0., 0., 0., 0., 0., 0., 0.,\n",
       "        0., 0., 1., 1.],\n",
       "       [0., 0., 0., 0., 0., 0., 0., 0., 0., 0., 0., 0., 0., 0., 0., 0.,\n",
       "        0., 0., 0., 1.],\n",
       "       [0., 0., 0., 0., 0., 0., 0., 0., 0., 0., 0., 0., 0., 0., 0., 0.,\n",
       "        0., 0., 0., 0.]])"
      ]
     },
     "execution_count": 79,
     "metadata": {},
     "output_type": "execute_result"
    }
   ],
   "source": [
    "vec_dom"
   ]
  },
  {
   "cell_type": "code",
   "execution_count": 77,
   "id": "990f9074-b972-4b42-9438-65476db58dd9",
   "metadata": {},
   "outputs": [
    {
     "data": {
      "text/plain": [
       "1"
      ]
     },
     "execution_count": 77,
     "metadata": {},
     "output_type": "execute_result"
    }
   ],
   "source": [
    "DominateRepository(repository[i], repository[j], e) or DominateRepository(repository[j], repository[i], e)"
   ]
  },
  {
   "cell_type": "code",
   "execution_count": 75,
   "id": "1e6e89bc-9b35-4883-8d2c-0a06b2aa81c1",
   "metadata": {},
   "outputs": [
    {
     "data": {
      "text/plain": [
       "array([[0., 0., 0., 0., 0., 0., 0., 0., 0., 0., 0., 0., 0., 0., 0., 0.,\n",
       "        1., 0., 0., 0.]])"
      ]
     },
     "execution_count": 75,
     "metadata": {},
     "output_type": "execute_result"
    }
   ],
   "source": [
    "vec_dom"
   ]
  },
  {
   "cell_type": "code",
   "execution_count": 67,
   "id": "3880981b-1455-4fea-86fc-6a1be2f9e1e0",
   "metadata": {},
   "outputs": [],
   "source": [
    "if DominateRepository(repository[i].copy(), repository[j].copy(), e):\n",
    "    repository[j]['is_dominated'] = 1\n"
   ]
  },
  {
   "cell_type": "code",
   "execution_count": 68,
   "id": "3dab1d4f-eff5-481d-b10f-b3c18e9d766a",
   "metadata": {},
   "outputs": [
    {
     "data": {
      "text/plain": [
       "{'position': array([0.1194, 0.6073, 0.4501]),\n",
       " 'velocity': array([0., 0., 0.]),\n",
       " 'cost': array([[0.5697],\n",
       "        [0.8034],\n",
       "        [0.1869]]),\n",
       " 'best_position': array([0.1194, 0.6073, 0.4501]),\n",
       " 'best_cost': array([[0.5697],\n",
       "        [0.8034],\n",
       "        [0.1869]]),\n",
       " 'is_dominated': 1,\n",
       " 'grid_index': 462.0,\n",
       " 'grid_subindex': array([[6., 7., 3.]]),\n",
       " 'crowding_distance': 0.5767892643937784}"
      ]
     },
     "execution_count": 68,
     "metadata": {},
     "output_type": "execute_result"
    }
   ],
   "source": [
    "repository[j]"
   ]
  },
  {
   "cell_type": "code",
   "execution_count": 69,
   "id": "13e48a08-f24a-4a04-a37f-205aa710352f",
   "metadata": {},
   "outputs": [],
   "source": [
    "\n",
    "# Caso       if  (a  dominates  b) en lo global como en lo particular\n",
    "if DominateRepository(repository[i].copy(), repository[j].copy(), e):\n",
    "    repository[j]['is_dominated'] = 1\n",
    "\n",
    "\n",
    "# Caso         (b   dominates  a) en lo global como en lo particular\n",
    "if DominateRepository(repository[j].copy(), repository[i].copy(), e):\n",
    "    repository[j]['is_dominated'] = 1 \n"
   ]
  },
  {
   "cell_type": "code",
   "execution_count": 70,
   "id": "4fa84f0d-364d-435d-a310-f5d74edf97c9",
   "metadata": {},
   "outputs": [
    {
     "data": {
      "text/plain": [
       "[0, 0, 0, 0, 0, 1, 0, 0, 0, 0, 0, 0, 0, 0, 0, 0, 1, 0, 0, 0]"
      ]
     },
     "execution_count": 70,
     "metadata": {},
     "output_type": "execute_result"
    }
   ],
   "source": [
    "mat_dom(repository)"
   ]
  },
  {
   "cell_type": "code",
   "execution_count": 16,
   "id": "62502d5c-bd9e-490b-8c09-a29eb12c0109",
   "metadata": {
    "tags": []
   },
   "outputs": [],
   "source": [
    "repository = e_file # repositorio actual\n",
    "nPop = len(repository)\n",
    "\n",
    "for i in range(0, nPop):\n",
    "    repository[i]['is_dominated'] = 0\n",
    "\n",
    "# Comparar entre el i actual respecto a los siguientes valores \n",
    "# e.g.: valor 1 compararlo con i 2 en adelante\n",
    "\n",
    "# Dominates: tanto que sea el mayor o menor de entre los dos.\n",
    "\n",
    "for i in range (0, nPop-1):\n",
    "    for j in range(i+1, nPop):\n",
    "\n",
    "        # Caso       if  (a  dominates  b) en lo global como en lo particular\n",
    "        if DominateRepository(repository[i], repository[j], e):\n",
    "            repository[j]['is_dominated'] = 1\n",
    "\n",
    "\n",
    "        # Caso         (b   dominates  a) en lo global como en lo particular\n",
    "        if DominateRepository(repository[j], repository[i], e):\n",
    "            repository[j]['is_dominated'] = 1 \n",
    "\n",
    "\n",
    "# Erasing dominated particles\n",
    "repository = [sub for sub in repository if sub['is_dominated'] == 0]"
   ]
  },
  {
   "cell_type": "code",
   "execution_count": 17,
   "id": "e99460e2-ddc0-4daf-a1e9-802d24b4aae2",
   "metadata": {},
   "outputs": [
    {
     "data": {
      "text/plain": [
       "19"
      ]
     },
     "execution_count": 17,
     "metadata": {},
     "output_type": "execute_result"
    }
   ],
   "source": [
    "nPop "
   ]
  },
  {
   "cell_type": "code",
   "execution_count": 3,
   "id": "58cce224-fa99-4d83-bb73-85145f753556",
   "metadata": {},
   "outputs": [
    {
     "data": {
      "text/plain": [
       "array([[[0.7519, 0.6679, 0.0019]],\n",
       "\n",
       "       [[0.2729, 0.723 , 0.6832]],\n",
       "\n",
       "       [[0.8449, 0.5016, 0.2403]],\n",
       "\n",
       "       [[0.4067, 0.9334, 0.3162]],\n",
       "\n",
       "       [[0.1263, 0.0568, 1.0615]],\n",
       "\n",
       "       [[0.5697, 0.8034, 0.1869]],\n",
       "\n",
       "       [[0.0676, 0.2515, 1.0268]],\n",
       "\n",
       "       [[0.3487, 0.4527, 0.8227]],\n",
       "\n",
       "       [[0.1918, 0.0847, 1.0116]],\n",
       "\n",
       "       [[0.5882, 0.4331, 0.9023]],\n",
       "\n",
       "       [[0.7376, 0.683 , 0.0176]],\n",
       "\n",
       "       [[0.3122, 0.7642, 0.6131]],\n",
       "\n",
       "       [[0.8175, 0.5419, 0.2354]],\n",
       "\n",
       "       [[0.293 , 0.1736, 0.9459]],\n",
       "\n",
       "       [[0.3114, 0.5636, 0.7678]],\n",
       "\n",
       "       [[0.4391, 0.6963, 0.59  ]],\n",
       "\n",
       "       [[0.4372, 0.7395, 0.5143]],\n",
       "\n",
       "       [[0.0919, 0.3197, 0.9947]],\n",
       "\n",
       "       [[0.2881, 0.143 , 0.9746]]])"
      ]
     },
     "execution_count": 3,
     "metadata": {},
     "output_type": "execute_result"
    }
   ],
   "source": [
    "from Det_Dom_Rep import DetermineDominationRepository\n",
    "\n",
    "for i in range(0, len(rep)):\n",
    "    e_file.append(rep[i])\n",
    "\n",
    "e_file = DetermineDominationRepository(e_file,e)\n",
    "\n",
    "nPop        = len(e_file) # tamano del repositorio   \n",
    "\n",
    "for i in range(0,nPop-1):\n",
    "    for j in range(i + 1, nPop):\n",
    "\n",
    "    # Calculo de indeces de caja\n",
    "        cost_i     =  e_file[i]['cost'];\n",
    "        cost_j     =  e_file[j]['cost'];\n",
    "\n",
    "        box_i = np.log(cost_i)/ (np.log(1+e))\n",
    "        box_j = np.log(cost_j)/ (np.log(1+e))\n",
    "\n",
    "       \n",
    "        if (box_i<=box_j).all() & (box_i<box_j).any():\n",
    "            e_file[j]['is_dominated'] = 1\n",
    "\n",
    "        # Segunda comparacion: Si las medidas de box son iguales pero los\n",
    "        # valores de la nueva particula son mejores, borra la particula\n",
    "        # anterior (comparacion de misma casilla)\n",
    "        elif (box_i==box_j).all() & ((cost_i<=cost_j).all() & (cost_i<cost_j).any()).all():\n",
    "            e_file[j]['is_dominated'] = 1\n",
    "\n",
    "# Borrando las particulas previas.\n",
    "e_file = [sub for sub in e_file if sub['is_dominated'] == 0]\n",
    "\n",
    "return e_file, rep"
   ]
  },
  {
   "cell_type": "code",
   "execution_count": 5,
   "id": "5fbffa84-fd2a-4b16-94f3-33dcd60f3198",
   "metadata": {},
   "outputs": [
    {
     "data": {
      "text/plain": [
       "19"
      ]
     },
     "execution_count": 5,
     "metadata": {},
     "output_type": "execute_result"
    }
   ],
   "source": [
    "len(e_file)"
   ]
  },
  {
   "cell_type": "code",
   "execution_count": 8,
   "id": "e2612c50-2f67-4e42-858a-cda63654451c",
   "metadata": {},
   "outputs": [
    {
     "data": {
      "text/plain": [
       "[array([       -inf, -0.01013   ,  0.12312143,  0.25637286,  0.38962429,\n",
       "         0.52287571,  0.65612714,  0.78937857,  0.92263   ]),\n",
       " array([       -inf, -0.03086   ,  0.11941429,  0.26968857,  0.41996286,\n",
       "         0.57023714,  0.72051143,  0.87078571,  1.02106   ]),\n",
       " array([       -inf, -0.10406   ,  0.07758571,  0.25923143,  0.44087714,\n",
       "         0.62252286,  0.80416857,  0.98581429,  1.16746   ])]"
      ]
     },
     "execution_count": 8,
     "metadata": {},
     "output_type": "execute_result"
    }
   ],
   "source": [
    "Grid_LB"
   ]
  },
  {
   "cell_type": "code",
   "execution_count": 5,
   "id": "0198461a-6f07-40e9-866c-01e16996991f",
   "metadata": {
    "tags": []
   },
   "outputs": [],
   "source": [
    "c   = []      \n",
    "\n",
    "for i in range(0, len(rep)):\n",
    "    c.append(rep[i]['cost'].T)\n",
    "\n",
    "c_mat = np.array(list(c))        \n",
    "\n",
    "cmin = c_mat.min(axis=0).T\n",
    "cmax = c_mat.max(axis=0).T\n",
    "dc = cmax - cmin\n",
    "\n",
    "c_min = cmin - alpha*dc\n",
    "c_max = cmax + alpha*dc\n",
    "\n",
    "nObj = c_min.shape\n",
    "nObj = nObj[0]\n",
    "\n",
    "c_min = np.array(c_min)\n",
    "c_max = np.array(c_max)\n",
    "\n",
    "Grid_LB = []\n",
    "Grid_UB = []\n",
    "\n",
    "init =  -np.inf\n",
    "end  =   np.inf\n",
    "\n"
   ]
  },
  {
   "cell_type": "code",
   "execution_count": 8,
   "id": "250311ac-9e9c-47e3-b19b-c51670852a48",
   "metadata": {},
   "outputs": [],
   "source": [
    "j=0"
   ]
  },
  {
   "cell_type": "code",
   "execution_count": 10,
   "id": "5f562fa8-cd76-4067-b21e-316672793708",
   "metadata": {},
   "outputs": [
    {
     "data": {
      "text/plain": [
       "array([[-0.01013   ],\n",
       "       [ 0.12312143],\n",
       "       [ 0.25637286],\n",
       "       [ 0.38962429],\n",
       "       [ 0.52287571],\n",
       "       [ 0.65612714],\n",
       "       [ 0.78937857],\n",
       "       [ 0.92263   ]])"
      ]
     },
     "execution_count": 10,
     "metadata": {},
     "output_type": "execute_result"
    }
   ],
   "source": [
    "cj = np.linspace(c_min[j], c_max[j], nGrid+1)\n",
    "cj"
   ]
  },
  {
   "cell_type": "code",
   "execution_count": null,
   "id": "796e1f17-8467-40ef-b50d-a6b4505a1035",
   "metadata": {},
   "outputs": [],
   "source": [
    "for j in range(0, nObj):\n",
    "\n",
    "    cj = np.linspace(c_min[j], c_max[j], nGrid+1)\n",
    "\n",
    "    Grid_LB.append(np.append(-np.inf, cj))\n",
    "    Grid_UB.append(np.append(cj, np.inf))"
   ]
  },
  {
   "cell_type": "code",
   "execution_count": 6,
   "id": "48f5b30e-6e5b-4deb-a8c1-faa2020d871e",
   "metadata": {},
   "outputs": [
    {
     "data": {
      "text/plain": [
       "array([[[0.7519, 0.6679, 0.0019]],\n",
       "\n",
       "       [[0.2729, 0.723 , 0.6832]],\n",
       "\n",
       "       [[0.8449, 0.5016, 0.2403]],\n",
       "\n",
       "       [[0.4067, 0.9334, 0.3162]],\n",
       "\n",
       "       [[0.1263, 0.0568, 1.0615]],\n",
       "\n",
       "       [[0.5697, 0.8034, 0.1869]],\n",
       "\n",
       "       [[0.0676, 0.2515, 1.0268]],\n",
       "\n",
       "       [[0.3487, 0.4527, 0.8227]],\n",
       "\n",
       "       [[0.1918, 0.0847, 1.0116]],\n",
       "\n",
       "       [[0.5882, 0.4331, 0.9023]],\n",
       "\n",
       "       [[0.7376, 0.683 , 0.0176]],\n",
       "\n",
       "       [[0.3122, 0.7642, 0.6131]],\n",
       "\n",
       "       [[0.8175, 0.5419, 0.2354]],\n",
       "\n",
       "       [[0.293 , 0.1736, 0.9459]],\n",
       "\n",
       "       [[0.3114, 0.5636, 0.7678]],\n",
       "\n",
       "       [[0.4391, 0.6963, 0.59  ]],\n",
       "\n",
       "       [[0.5697, 0.8034, 0.1869]],\n",
       "\n",
       "       [[0.4372, 0.7395, 0.5143]],\n",
       "\n",
       "       [[0.0919, 0.3197, 0.9947]],\n",
       "\n",
       "       [[0.2881, 0.143 , 0.9746]]])"
      ]
     },
     "execution_count": 6,
     "metadata": {},
     "output_type": "execute_result"
    }
   ],
   "source": [
    "mat_cost(rep)"
   ]
  },
  {
   "cell_type": "code",
   "execution_count": 11,
   "id": "5bb81f2f-db72-4167-a732-95f0b97118b0",
   "metadata": {
    "collapsed": true,
    "jupyter": {
     "outputs_hidden": true,
     "source_hidden": true
    },
    "tags": []
   },
   "outputs": [
    {
     "data": {
      "text/plain": [
       "array([[       inf],\n",
       "       [0.18628915],\n",
       "       [0.08739562],\n",
       "       [       inf],\n",
       "       [       inf],\n",
       "       [       inf],\n",
       "       [0.07810746],\n",
       "       [0.09650408],\n",
       "       [0.372513  ],\n",
       "       [0.06854307],\n",
       "       [0.11544311],\n",
       "       [       inf],\n",
       "       [0.26941197],\n",
       "       [0.31723049],\n",
       "       [0.48399697],\n",
       "       [0.40276286],\n",
       "       [0.16102251],\n",
       "       [0.11988052],\n",
       "       [0.21159152],\n",
       "       [0.2012698 ],\n",
       "       [0.13180404],\n",
       "       [0.21655483],\n",
       "       [0.26654482],\n",
       "       [0.14144091],\n",
       "       [0.08842702],\n",
       "       [0.22377271],\n",
       "       [0.3176007 ],\n",
       "       [0.08960214],\n",
       "       [0.17332841]])"
      ]
     },
     "execution_count": 11,
     "metadata": {},
     "output_type": "execute_result"
    }
   ],
   "source": [
    "crow_value\n"
   ]
  },
  {
   "cell_type": "code",
   "execution_count": null,
   "id": "ac032edb-2c16-45f0-9a33-ec013ff7f7c3",
   "metadata": {},
   "outputs": [],
   "source": [
    "#for it in range (0, MaxIter):\n",
    "#it = 0\n",
    "\n",
    "#mutation = np.zeros((nPop,1))\n",
    "    \n",
    "#leader, rep = SelectLeader(rep,nPop)\n",
    "        \n",
    "    \n",
    "#for i in range(0, nPop):\n",
    "i = 0\n",
    "            #for i in range(0, nPop):\n",
    "\n",
    "                #W = (w2 - w1) * np.random.uniform(0,1,nVar) + w1\n",
    "\n",
    "                # 1.2.- Calculo de coeficientes de aprendizaje\n",
    "                #C1 = (c2 - c1) * np.random.uniform(0,1,nVar) + c1\n",
    "                #C2 = (c2 - c1) * np.random.uniform(0,1,nVar) + c1\n",
    "\n",
    "                #R1 = (r2 - r1) * np.random.uniform(0,1,nVar) + r1\n",
    "                #R2 = (r2 - r1) * np.random.uniform(0,1,nVar) + r1\n",
    "W = W_mat[i,:,it]\n",
    "C1 = C1_mat[i,:,it]\n",
    "C2 = C2_mat[i,:,it]\n",
    "R1 = R1_mat[i,:,it]\n",
    "R2 = R2_mat[i,:,it]\n",
    "\n",
    "\n",
    "pop[i]['velocity'] = W * pop[i]['velocity'] + \\\n",
    "    (R1 * C1 * (pop[i]['best_position']-pop[i]['position'])) + \\\n",
    "    (R2 * C2 * (leader['position']-pop[i]['position']))       \n",
    "\n",
    "pop[i]['position'] =  pop[i]['position'] +  pop[i]['velocity']\n",
    "pop[i]['position'] =  np.fmax(pop[i]['position'], VarMin)                            \n",
    "pop[i]['position'] =  np.fmin(pop[i]['position'], VarMax)                            \n",
    "\n",
    "            #pop[i]['cost'] =  CostFunction(pop[i]['position'])\n",
    "pop[i]['cost'] = CostFunction(pop[i]['position'])\n",
    "\n",
    "\n",
    "mu = 1/len(pop[0]['position'])\n",
    "a  = 1 \n",
    "pm = (1-(it)/(MaxIter-1))**(a/mu)\n",
    "\n",
    "NewSol, mutation = mutate(pop[i]['position'], pm, VarMin, VarMax, i, mutation)\n",
    "NewSol['position'] = deepcopy(New_Solution[i,:,it])\n",
    "#NewSol_pos = New_Solution[i,:,it]\n",
    "NewSol['cost'] =  deepcopy(CostFunction(NewSol['position']))\n",
    "#NewSol_cost =  CostFunction(NewSol)\n",
    "\n",
    "           ## EVALUATION: Previous vs Current and best particle position individual\n",
    "         # Comparacion entre soluciones y guardar soluciones dominantes y no dominantes\n",
    "\n",
    "if Dominate(NewSol, pop[i]):\n",
    "#if Dominate_pop(NewSol_cost, pop[i]):\n",
    "    pop[i]['position'] = NewSol['position']\n",
    "    #pop[i]['position'] = NewSol_pos\n",
    "    pop[i]['cost'] = NewSol['cost']\n",
    "    #pop[i]['cost'] = NewSol_cost \n",
    "                            # Guardar\n",
    "if Dominate_best(pop[i], pop[i]['best_cost']):\n",
    "    pop[i]['best_position'] = pop[i]['position']\n",
    "    pop[i]['best_cost'] = pop[i]['cost']        \n",
    "\n",
    "   \n",
    " # Outer Loop. Contrast between iterations\n",
    "    # 5.0 Add Non-Dominated Particles to REPOSITORY\n",
    "\n",
    "#for i in range(0,len(pop)):\n",
    "#    if pop[i]['is_dominated'] == 0:\n",
    "#        rep.append(pop[i])\n",
    "        \n",
    "#5.1- Update leaders: if the repository size > swarm size keep only the best measuring crowding values Pareto comparison\n",
    "## 5.1.- Determine Domination of New Resository Members\n",
    "#rep = determine_domination(rep)\n",
    "    \n",
    "## 5.2.- Keep only Non-Dominated Memebrs in the Repository\n",
    "#rep = [sub for sub in rep if sub['is_dominated'] == 0]\n",
    "    \n",
    "## 5.3.- Crowding distance  \n",
    "#if len(rep) > nPop:\n",
    "#    rep = crowding_leaders (rep, nPop)    \n"
   ]
  },
  {
   "cell_type": "code",
   "execution_count": null,
   "id": "1c6f8b88-9343-43f8-9de6-49c45b0827fd",
   "metadata": {},
   "outputs": [],
   "source": []
  }
 ],
 "metadata": {
  "kernelspec": {
   "display_name": "Python 3 (ipykernel)",
   "language": "python",
   "name": "python3"
  },
  "language_info": {
   "codemirror_mode": {
    "name": "ipython",
    "version": 3
   },
   "file_extension": ".py",
   "mimetype": "text/x-python",
   "name": "python",
   "nbconvert_exporter": "python",
   "pygments_lexer": "ipython3",
   "version": "3.9.7"
  }
 },
 "nbformat": 4,
 "nbformat_minor": 5
}
