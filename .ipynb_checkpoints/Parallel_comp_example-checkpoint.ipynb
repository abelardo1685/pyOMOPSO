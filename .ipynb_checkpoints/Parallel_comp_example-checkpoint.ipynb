{
 "cells": [
  {
   "cell_type": "code",
   "execution_count": null,
   "id": "c88f6799-84c2-4662-9566-f3412e08b886",
   "metadata": {},
   "outputs": [],
   "source": [
    "pip install joblib"
   ]
  },
  {
   "cell_type": "code",
   "execution_count": 10,
   "id": "e84eeb2b-87ce-4218-827d-879c499ba501",
   "metadata": {},
   "outputs": [],
   "source": [
    "import concurrent.futures\n",
    "import time\n",
    "\n",
    "start = time.perf_counter()\n",
    "\n",
    "def do_something(seconds):\n",
    "    print(f'Sleeping {seconds} second(s)...')\n",
    "    time.sleep(seconds)\n",
    "    return f'Done Sleeping...{seconds}'\n",
    "\n",
    "with concurrent.futures.ProcessPoolExecutor() as executor:\n",
    "    secs=[5,4,3,2,1]\n",
    "    results = [executor.submit(do_something, sec) for sec in secs]\n",
    "    \n"
   ]
  },
  {
   "cell_type": "code",
   "execution_count": 11,
   "id": "72aaa685-b088-47ac-9401-93d779bcdf60",
   "metadata": {},
   "outputs": [
    {
     "ename": "BrokenProcessPool",
     "evalue": "A process in the process pool was terminated abruptly while the future was running or pending.",
     "output_type": "error",
     "traceback": [
      "\u001b[1;31m---------------------------------------------------------------------------\u001b[0m",
      "\u001b[1;31mBrokenProcessPool\u001b[0m                         Traceback (most recent call last)",
      "\u001b[1;32m~\\AppData\\Local\\Temp/ipykernel_14360/587604311.py\u001b[0m in \u001b[0;36m<module>\u001b[1;34m\u001b[0m\n\u001b[0;32m      3\u001b[0m     \u001b[0mresults\u001b[0m \u001b[1;33m=\u001b[0m \u001b[0mexecutor\u001b[0m\u001b[1;33m.\u001b[0m\u001b[0mmap\u001b[0m\u001b[1;33m(\u001b[0m\u001b[0mdo_something\u001b[0m\u001b[1;33m,\u001b[0m \u001b[0msecs\u001b[0m\u001b[1;33m)\u001b[0m\u001b[1;33m\u001b[0m\u001b[1;33m\u001b[0m\u001b[0m\n\u001b[0;32m      4\u001b[0m \u001b[1;33m\u001b[0m\u001b[0m\n\u001b[1;32m----> 5\u001b[1;33m     \u001b[1;32mfor\u001b[0m \u001b[0mresult\u001b[0m \u001b[1;32min\u001b[0m \u001b[0mresults\u001b[0m\u001b[1;33m:\u001b[0m\u001b[1;33m\u001b[0m\u001b[1;33m\u001b[0m\u001b[0m\n\u001b[0m\u001b[0;32m      6\u001b[0m         \u001b[0mprint\u001b[0m\u001b[1;33m(\u001b[0m\u001b[0mresult\u001b[0m\u001b[1;33m)\u001b[0m\u001b[1;33m\u001b[0m\u001b[1;33m\u001b[0m\u001b[0m\n\u001b[0;32m      7\u001b[0m \u001b[1;33m\u001b[0m\u001b[0m\n",
      "\u001b[1;32m~\\anaconda3\\lib\\concurrent\\futures\\process.py\u001b[0m in \u001b[0;36m_chain_from_iterable_of_lists\u001b[1;34m(iterable)\u001b[0m\n\u001b[0;32m    557\u001b[0m     \u001b[0mcareful\u001b[0m \u001b[1;32mnot\u001b[0m \u001b[0mto\u001b[0m \u001b[0mkeep\u001b[0m \u001b[0mreferences\u001b[0m \u001b[0mto\u001b[0m \u001b[0myielded\u001b[0m \u001b[0mobjects\u001b[0m\u001b[1;33m.\u001b[0m\u001b[1;33m\u001b[0m\u001b[1;33m\u001b[0m\u001b[0m\n\u001b[0;32m    558\u001b[0m     \"\"\"\n\u001b[1;32m--> 559\u001b[1;33m     \u001b[1;32mfor\u001b[0m \u001b[0melement\u001b[0m \u001b[1;32min\u001b[0m \u001b[0miterable\u001b[0m\u001b[1;33m:\u001b[0m\u001b[1;33m\u001b[0m\u001b[1;33m\u001b[0m\u001b[0m\n\u001b[0m\u001b[0;32m    560\u001b[0m         \u001b[0melement\u001b[0m\u001b[1;33m.\u001b[0m\u001b[0mreverse\u001b[0m\u001b[1;33m(\u001b[0m\u001b[1;33m)\u001b[0m\u001b[1;33m\u001b[0m\u001b[1;33m\u001b[0m\u001b[0m\n\u001b[0;32m    561\u001b[0m         \u001b[1;32mwhile\u001b[0m \u001b[0melement\u001b[0m\u001b[1;33m:\u001b[0m\u001b[1;33m\u001b[0m\u001b[1;33m\u001b[0m\u001b[0m\n",
      "\u001b[1;32m~\\anaconda3\\lib\\concurrent\\futures\\_base.py\u001b[0m in \u001b[0;36mresult_iterator\u001b[1;34m()\u001b[0m\n\u001b[0;32m    606\u001b[0m                     \u001b[1;31m# Careful not to keep a reference to the popped future\u001b[0m\u001b[1;33m\u001b[0m\u001b[1;33m\u001b[0m\u001b[0m\n\u001b[0;32m    607\u001b[0m                     \u001b[1;32mif\u001b[0m \u001b[0mtimeout\u001b[0m \u001b[1;32mis\u001b[0m \u001b[1;32mNone\u001b[0m\u001b[1;33m:\u001b[0m\u001b[1;33m\u001b[0m\u001b[1;33m\u001b[0m\u001b[0m\n\u001b[1;32m--> 608\u001b[1;33m                         \u001b[1;32myield\u001b[0m \u001b[0mfs\u001b[0m\u001b[1;33m.\u001b[0m\u001b[0mpop\u001b[0m\u001b[1;33m(\u001b[0m\u001b[1;33m)\u001b[0m\u001b[1;33m.\u001b[0m\u001b[0mresult\u001b[0m\u001b[1;33m(\u001b[0m\u001b[1;33m)\u001b[0m\u001b[1;33m\u001b[0m\u001b[1;33m\u001b[0m\u001b[0m\n\u001b[0m\u001b[0;32m    609\u001b[0m                     \u001b[1;32melse\u001b[0m\u001b[1;33m:\u001b[0m\u001b[1;33m\u001b[0m\u001b[1;33m\u001b[0m\u001b[0m\n\u001b[0;32m    610\u001b[0m                         \u001b[1;32myield\u001b[0m \u001b[0mfs\u001b[0m\u001b[1;33m.\u001b[0m\u001b[0mpop\u001b[0m\u001b[1;33m(\u001b[0m\u001b[1;33m)\u001b[0m\u001b[1;33m.\u001b[0m\u001b[0mresult\u001b[0m\u001b[1;33m(\u001b[0m\u001b[0mend_time\u001b[0m \u001b[1;33m-\u001b[0m \u001b[0mtime\u001b[0m\u001b[1;33m.\u001b[0m\u001b[0mmonotonic\u001b[0m\u001b[1;33m(\u001b[0m\u001b[1;33m)\u001b[0m\u001b[1;33m)\u001b[0m\u001b[1;33m\u001b[0m\u001b[1;33m\u001b[0m\u001b[0m\n",
      "\u001b[1;32m~\\anaconda3\\lib\\concurrent\\futures\\_base.py\u001b[0m in \u001b[0;36mresult\u001b[1;34m(self, timeout)\u001b[0m\n\u001b[0;32m    443\u001b[0m                     \u001b[1;32mraise\u001b[0m \u001b[0mCancelledError\u001b[0m\u001b[1;33m(\u001b[0m\u001b[1;33m)\u001b[0m\u001b[1;33m\u001b[0m\u001b[1;33m\u001b[0m\u001b[0m\n\u001b[0;32m    444\u001b[0m                 \u001b[1;32melif\u001b[0m \u001b[0mself\u001b[0m\u001b[1;33m.\u001b[0m\u001b[0m_state\u001b[0m \u001b[1;33m==\u001b[0m \u001b[0mFINISHED\u001b[0m\u001b[1;33m:\u001b[0m\u001b[1;33m\u001b[0m\u001b[1;33m\u001b[0m\u001b[0m\n\u001b[1;32m--> 445\u001b[1;33m                     \u001b[1;32mreturn\u001b[0m \u001b[0mself\u001b[0m\u001b[1;33m.\u001b[0m\u001b[0m__get_result\u001b[0m\u001b[1;33m(\u001b[0m\u001b[1;33m)\u001b[0m\u001b[1;33m\u001b[0m\u001b[1;33m\u001b[0m\u001b[0m\n\u001b[0m\u001b[0;32m    446\u001b[0m                 \u001b[1;32melse\u001b[0m\u001b[1;33m:\u001b[0m\u001b[1;33m\u001b[0m\u001b[1;33m\u001b[0m\u001b[0m\n\u001b[0;32m    447\u001b[0m                     \u001b[1;32mraise\u001b[0m \u001b[0mTimeoutError\u001b[0m\u001b[1;33m(\u001b[0m\u001b[1;33m)\u001b[0m\u001b[1;33m\u001b[0m\u001b[1;33m\u001b[0m\u001b[0m\n",
      "\u001b[1;32m~\\anaconda3\\lib\\concurrent\\futures\\_base.py\u001b[0m in \u001b[0;36m__get_result\u001b[1;34m(self)\u001b[0m\n\u001b[0;32m    388\u001b[0m         \u001b[1;32mif\u001b[0m \u001b[0mself\u001b[0m\u001b[1;33m.\u001b[0m\u001b[0m_exception\u001b[0m\u001b[1;33m:\u001b[0m\u001b[1;33m\u001b[0m\u001b[1;33m\u001b[0m\u001b[0m\n\u001b[0;32m    389\u001b[0m             \u001b[1;32mtry\u001b[0m\u001b[1;33m:\u001b[0m\u001b[1;33m\u001b[0m\u001b[1;33m\u001b[0m\u001b[0m\n\u001b[1;32m--> 390\u001b[1;33m                 \u001b[1;32mraise\u001b[0m \u001b[0mself\u001b[0m\u001b[1;33m.\u001b[0m\u001b[0m_exception\u001b[0m\u001b[1;33m\u001b[0m\u001b[1;33m\u001b[0m\u001b[0m\n\u001b[0m\u001b[0;32m    391\u001b[0m             \u001b[1;32mfinally\u001b[0m\u001b[1;33m:\u001b[0m\u001b[1;33m\u001b[0m\u001b[1;33m\u001b[0m\u001b[0m\n\u001b[0;32m    392\u001b[0m                 \u001b[1;31m# Break a reference cycle with the exception in self._exception\u001b[0m\u001b[1;33m\u001b[0m\u001b[1;33m\u001b[0m\u001b[0m\n",
      "\u001b[1;31mBrokenProcessPool\u001b[0m: A process in the process pool was terminated abruptly while the future was running or pending."
     ]
    }
   ],
   "source": [
    "with concurrent.futures.ProcessPoolExecutor() as executor:\n",
    "    secs=[5,4,3,2,1]\n",
    "    results = executor.map(do_something, secs)\n",
    "    \n",
    "    for result in results:\n",
    "        print(result)\n",
    "    \n"
   ]
  },
  {
   "cell_type": "code",
   "execution_count": 20,
   "id": "76e4cc1d-8560-4c68-bd84-f7c325f647b2",
   "metadata": {
    "collapsed": true,
    "jupyter": {
     "outputs_hidden": true
    },
    "tags": []
   },
   "outputs": [
    {
     "ename": "BrokenProcessPool",
     "evalue": "A process in the process pool was terminated abruptly while the future was running or pending.",
     "output_type": "error",
     "traceback": [
      "\u001b[1;31m---------------------------------------------------------------------------\u001b[0m",
      "\u001b[1;31mBrokenProcessPool\u001b[0m                         Traceback (most recent call last)",
      "\u001b[1;32m~\\AppData\\Local\\Temp/ipykernel_14360/2623509026.py\u001b[0m in \u001b[0;36m<module>\u001b[1;34m\u001b[0m\n\u001b[0;32m     13\u001b[0m     \u001b[0mf2\u001b[0m \u001b[1;33m=\u001b[0m \u001b[0mexecutor\u001b[0m\u001b[1;33m.\u001b[0m\u001b[0msubmit\u001b[0m\u001b[1;33m(\u001b[0m\u001b[0mdo_something\u001b[0m\u001b[1;33m,\u001b[0m\u001b[1;36m1\u001b[0m\u001b[1;33m)\u001b[0m\u001b[1;33m\u001b[0m\u001b[1;33m\u001b[0m\u001b[0m\n\u001b[0;32m     14\u001b[0m \u001b[1;33m\u001b[0m\u001b[0m\n\u001b[1;32m---> 15\u001b[1;33m \u001b[0mprint\u001b[0m\u001b[1;33m(\u001b[0m\u001b[0mf1\u001b[0m\u001b[1;33m.\u001b[0m\u001b[0mresult\u001b[0m\u001b[1;33m(\u001b[0m\u001b[1;33m)\u001b[0m\u001b[1;33m)\u001b[0m\u001b[1;33m\u001b[0m\u001b[1;33m\u001b[0m\u001b[0m\n\u001b[0m\u001b[0;32m     16\u001b[0m \u001b[0mprint\u001b[0m\u001b[1;33m(\u001b[0m\u001b[0mf2\u001b[0m\u001b[1;33m.\u001b[0m\u001b[0mresult\u001b[0m\u001b[1;33m(\u001b[0m\u001b[1;33m)\u001b[0m\u001b[1;33m)\u001b[0m\u001b[1;33m\u001b[0m\u001b[1;33m\u001b[0m\u001b[0m\n",
      "\u001b[1;32m~\\anaconda3\\lib\\concurrent\\futures\\_base.py\u001b[0m in \u001b[0;36mresult\u001b[1;34m(self, timeout)\u001b[0m\n\u001b[0;32m    436\u001b[0m                     \u001b[1;32mraise\u001b[0m \u001b[0mCancelledError\u001b[0m\u001b[1;33m(\u001b[0m\u001b[1;33m)\u001b[0m\u001b[1;33m\u001b[0m\u001b[1;33m\u001b[0m\u001b[0m\n\u001b[0;32m    437\u001b[0m                 \u001b[1;32melif\u001b[0m \u001b[0mself\u001b[0m\u001b[1;33m.\u001b[0m\u001b[0m_state\u001b[0m \u001b[1;33m==\u001b[0m \u001b[0mFINISHED\u001b[0m\u001b[1;33m:\u001b[0m\u001b[1;33m\u001b[0m\u001b[1;33m\u001b[0m\u001b[0m\n\u001b[1;32m--> 438\u001b[1;33m                     \u001b[1;32mreturn\u001b[0m \u001b[0mself\u001b[0m\u001b[1;33m.\u001b[0m\u001b[0m__get_result\u001b[0m\u001b[1;33m(\u001b[0m\u001b[1;33m)\u001b[0m\u001b[1;33m\u001b[0m\u001b[1;33m\u001b[0m\u001b[0m\n\u001b[0m\u001b[0;32m    439\u001b[0m \u001b[1;33m\u001b[0m\u001b[0m\n\u001b[0;32m    440\u001b[0m                 \u001b[0mself\u001b[0m\u001b[1;33m.\u001b[0m\u001b[0m_condition\u001b[0m\u001b[1;33m.\u001b[0m\u001b[0mwait\u001b[0m\u001b[1;33m(\u001b[0m\u001b[0mtimeout\u001b[0m\u001b[1;33m)\u001b[0m\u001b[1;33m\u001b[0m\u001b[1;33m\u001b[0m\u001b[0m\n",
      "\u001b[1;32m~\\anaconda3\\lib\\concurrent\\futures\\_base.py\u001b[0m in \u001b[0;36m__get_result\u001b[1;34m(self)\u001b[0m\n\u001b[0;32m    388\u001b[0m         \u001b[1;32mif\u001b[0m \u001b[0mself\u001b[0m\u001b[1;33m.\u001b[0m\u001b[0m_exception\u001b[0m\u001b[1;33m:\u001b[0m\u001b[1;33m\u001b[0m\u001b[1;33m\u001b[0m\u001b[0m\n\u001b[0;32m    389\u001b[0m             \u001b[1;32mtry\u001b[0m\u001b[1;33m:\u001b[0m\u001b[1;33m\u001b[0m\u001b[1;33m\u001b[0m\u001b[0m\n\u001b[1;32m--> 390\u001b[1;33m                 \u001b[1;32mraise\u001b[0m \u001b[0mself\u001b[0m\u001b[1;33m.\u001b[0m\u001b[0m_exception\u001b[0m\u001b[1;33m\u001b[0m\u001b[1;33m\u001b[0m\u001b[0m\n\u001b[0m\u001b[0;32m    391\u001b[0m             \u001b[1;32mfinally\u001b[0m\u001b[1;33m:\u001b[0m\u001b[1;33m\u001b[0m\u001b[1;33m\u001b[0m\u001b[0m\n\u001b[0;32m    392\u001b[0m                 \u001b[1;31m# Break a reference cycle with the exception in self._exception\u001b[0m\u001b[1;33m\u001b[0m\u001b[1;33m\u001b[0m\u001b[0m\n",
      "\u001b[1;31mBrokenProcessPool\u001b[0m: A process in the process pool was terminated abruptly while the future was running or pending."
     ]
    }
   ],
   "source": [
    "import concurrent.futures\n",
    "import time\n",
    "\n",
    "start = time.perf_counter()\n",
    "\n",
    "def do_something(seconds):\n",
    "    print(f'Sleeping {seconds} second(s) ...')\n",
    "    time.sleep(seconds)\n",
    "    return 'Done Sleeping...'\n",
    "\n",
    "with concurrent.futures.ProcessPoolExecutor() as executor:\n",
    "    f1 = executor.submit(do_something,1)\n",
    "    f2 = executor.submit(do_something,1)\n",
    "\n",
    "print(f1.result())\n",
    "print(f2.result())"
   ]
  },
  {
   "cell_type": "code",
   "execution_count": 5,
   "id": "b1fdb11a-1617-48b4-a1ce-26946387417b",
   "metadata": {},
   "outputs": [],
   "source": [
    "import numpy as np\n",
    "import time\n",
    "from Test_Functions import *\n",
    "\n",
    "# Define Optimization Problem\n",
    "Prueba = dtlz3()\n",
    "Test_function = Prueba.Test_function\n"
   ]
  },
  {
   "cell_type": "code",
   "execution_count": 11,
   "id": "cdb50eb6-b711-4c99-b083-f03d19885ffd",
   "metadata": {},
   "outputs": [],
   "source": [
    "problem = {\n",
    "        'CostFunction': Test_function,\n",
    "        'nVar': 3,\n",
    "        'VarMin': 0,   # Alternatively you can use a \"numpy array\" with nVar elements, instead of scalar\n",
    "        'VarMax': 1,    # Alternatively you can use a \"numpy array\" with nVar elements, instead of scalar\n",
    "    };\n",
    "\n",
    "# Define Optimization Problem\n",
    "Prueba = dtlz3()\n",
    "Test_function = Prueba.Test_function\n",
    "\n",
    "MaxIter = 40\n",
    "nPop    = 20\n",
    "w1      = 0.1\n",
    "w2      = 0.5\n",
    "e       = 0.001\n",
    "c1      = 1.5\n",
    "c2      = 2\n",
    "nGrid   = 7\n",
    "alpha   = 0.1\n",
    "wdamp   = 0.99\n",
    "r1      = 0\n",
    "r2      = 1\n",
    "e_file  = []\n",
    "\n",
    "# Initialization: Empty Particle Template\n",
    "empty_particle = {\n",
    "    'position': None,\n",
    "    'velocity': None,\n",
    "    'cost': None,\n",
    "    'best_position': None,\n",
    "    'best_cost': None,\n",
    "    'is_dominated': None,\n",
    "    'grid_index': None,\n",
    "    'grid_subindex': None,\n",
    "    'crowding_distance': None,\n",
    "    'New_pos': None,\n",
    "    'New_sol': None,\n",
    "    };\n",
    "\n",
    " # Extract Problem Info\n",
    "Prueba = dtlz3()\n",
    "CostFunction = Prueba.Test_function\n",
    "\n",
    "VarMin = problem['VarMin'];\n",
    "VarMax = problem['VarMax'];\n",
    "nVar = problem['nVar'];\n",
    "\n",
    " # Initialize Global Best\n",
    "gbest = {'position': None, 'cost': np.inf}\n",
    "pop = []\n",
    "\n",
    "for i in range(0, nPop):\n",
    "    pop.append(empty_particle.copy());\n",
    "    pop[i]['position'] = np.random.uniform(VarMin, VarMax, nVar);\n",
    "    pop[i]['velocity'] = np.zeros(nVar);\n",
    "    \n",
    "pop[0]['position'] = np.array([0.7806,0.6753,0.0067]);\n",
    "pop[1]['position'] = np.array([0.6022,0.3868,0.9160]);\n",
    "pop[2]['position'] = np.array([0.0012,0.4624,0.4243]);\n",
    "pop[3]['position'] = np.array([0.4609,0.7702,0.3225]);\n",
    "pop[4]['position'] = np.array([0.7847,0.4714,0.0358]);\n",
    "pop[5]['position'] = np.array([0.1759,0.7218,0.4735]);\n",
    "pop[6]['position'] = np.array([0.1527,0.3411,0.6074]);\n",
    "pop[7]['position'] = np.array([0.1917,0.7384,0.2428]);\n",
    "pop[8]['position'] = np.array([0.9174,0.2691,0.7655]);\n",
    "pop[9]['position'] = np.array([0.1887,0.2875,0.0911]);\n",
    "pop[10]['position'] = np.array([0.5762,0.6834,0.5466]);\n",
    "pop[11]['position'] = np.array([0.4257,0.6444,0.6476]);\n",
    "pop[12]['position'] = np.array([0.6790,0.6358,0.9452]);\n",
    "pop[13]['position'] = np.array([0.2089,0.7093,0.2362]);\n",
    "pop[14]['position'] = np.array([0.1194,0.6073,0.4501]);\n",
    "pop[15]['position'] = np.array([0.4587,0.6619,0.7703]);\n",
    "pop[16]['position'] = np.array([0.3502,0.6620,0.4162]);\n",
    "pop[17]['position'] = np.array([0.8419,0.8329,0.2564]);\n",
    "pop[18]['position'] = np.array([0.6135,0.5822,0.5407]);\n",
    "pop[19]['position'] = np.array([0.8699,0.2648,0.3181]);\n",
    "\n",
    "## FIRST ITERATION\n",
    "\n"
   ]
  },
  {
   "cell_type": "code",
   "execution_count": 12,
   "id": "37ae6aae-2f06-47dd-aead-9837a7cb458f",
   "metadata": {},
   "outputs": [
    {
     "data": {
      "text/plain": [
       "array([[0.2051],\n",
       "       [0.3666],\n",
       "       [1.1702]])"
      ]
     },
     "execution_count": 12,
     "metadata": {},
     "output_type": "execute_result"
    }
   ],
   "source": [
    "list_var = []\n",
    "\n",
    "for i in range(20):\n",
    "    list_var.append(pop[i]['position'])\n",
    "    \n"
   ]
  },
  {
   "cell_type": "code",
   "execution_count": 13,
   "id": "a18769fd-ff4e-4fb5-b1d2-3e00190b68d2",
   "metadata": {},
   "outputs": [
    {
     "data": {
      "text/plain": [
       "array([0.7806, 0.6753, 0.0067])"
      ]
     },
     "execution_count": 13,
     "metadata": {},
     "output_type": "execute_result"
    }
   ],
   "source": [
    "list_var[0]"
   ]
  },
  {
   "cell_type": "code",
   "execution_count": 18,
   "id": "6fd3d663-2826-4638-86cf-e1f716ff69c7",
   "metadata": {},
   "outputs": [],
   "source": [
    "import numpy as np\n",
    "import time\n",
    "import math\n",
    "\n",
    "import ray\n",
    "\n",
    "ray.shutdown()\n",
    "ray.init()\n",
    "\n",
    "# Define the function. Each remote function will be executed \n",
    "# in a separate process.\n",
    "@ray.remote\n",
    "def Test_function(x) -> 'Function_evaluation':\n",
    "\n",
    "    yy = [0, 0, 0]\n",
    "\n",
    "    vec_x = np.array(x)\n",
    "    vec_y = np.array(yy)\n",
    "\n",
    "    g = (vec_x[-1] - 0.5)**2\n",
    "\n",
    "    yy[0] = (1+g) * math.cos(vec_x[0]*math.pi/2) * math.cos(vec_x[1]*math.pi/2)\n",
    "    yy[1] = (1+g) * math.cos(vec_x[0]*math.pi/2) * math.sin(vec_x[1]*math.pi/2)\n",
    "    yy[2] = (1+g) * math.sin(vec_x[0]*math.pi/2) \n",
    "\n",
    "    y = np.array([[round(yy[0],4), round(yy[1],4), round(yy[2],4)]]).T\n",
    "\n",
    "    return y\n",
    "\n",
    "N = 20\n",
    "output_ids = []\n",
    "for i in range(N):\n",
    "    output_ids.append(Test_function.remote(list_var[i]))\n",
    "\n",
    "# Get results when ready.\n",
    "output_list = ray.get(output_ids)\n",
    "\n",
    "# Move results into an NxN numpy array.\n",
    "\n"
   ]
  },
  {
   "cell_type": "code",
   "execution_count": 21,
   "id": "7be51ba3-2152-4831-b5b2-e3c8820f19d5",
   "metadata": {},
   "outputs": [],
   "source": [
    "import ray\n",
    "import numpy as np\n",
    "\n",
    "def particle_creation(problem, empty_particle):\n",
    "\n",
    "\n",
    "ray.shutdown()\n",
    "ray.init()\n",
    "\n",
    "\n",
    "# Define the function. Each remote function will be executed \n",
    "# in a separate process.\n",
    "@ray.remote\n",
    "def particle_create(problem, empty_particle):\n",
    "      \n",
    "    VarMin = problem['VarMin']\n",
    "    VarMax = problem['VarMax']\n",
    "    nVar   = problem['nVar']\n",
    "    CostFunction = problem['CostFunction']\n",
    "\n",
    "    pop = empty_particle.copy()\n",
    "\n",
    "    pop['position'] = np.random.uniform(VarMin, VarMax, nVar)\n",
    "    pop['velocity'] = np.zeros(nVar)\n",
    "    pop['cost'] = CostFunction(pop['position']);\n",
    "    pop['best_position'] = pop['position'].copy();\n",
    "    pop['best_cost'] = pop['cost']\n",
    "    \n",
    "    return pop\n",
    "\n",
    "N = 20\n",
    "output_ids = []\n",
    "for i in range(N):\n",
    "    output_ids.append(particle_create.remote(problem, empty_particle))\n",
    "    \n",
    "# Get results when ready.\n",
    "output_list = ray.get(output_ids)\n",
    "\n",
    "return output_list\n",
    "    \n",
    "    "
   ]
  },
  {
   "cell_type": "code",
   "execution_count": 22,
   "id": "a4b88c5b-484b-49b7-963a-05ea07664cbd",
   "metadata": {},
   "outputs": [],
   "source": []
  },
  {
   "cell_type": "code",
   "execution_count": 24,
   "id": "d741ad94-ba50-49ae-8e5e-7da798e2a904",
   "metadata": {},
   "outputs": [],
   "source": [
    "pop = output_list"
   ]
  },
  {
   "cell_type": "code",
   "execution_count": 25,
   "id": "88e8f118-46d2-437d-9952-3c9847080914",
   "metadata": {},
   "outputs": [
    {
     "data": {
      "text/plain": [
       "{'position': array([0.41960007, 0.59197014, 0.08578627]),\n",
       " 'velocity': array([0., 0., 0.]),\n",
       " 'cost': array([[0.5538],\n",
       "        [0.7424],\n",
       "        [0.7175]]),\n",
       " 'best_position': array([0.41960007, 0.59197014, 0.08578627]),\n",
       " 'best_cost': array([[0.5538],\n",
       "        [0.7424],\n",
       "        [0.7175]]),\n",
       " 'is_dominated': None,\n",
       " 'grid_index': None,\n",
       " 'grid_subindex': None,\n",
       " 'crowding_distance': None,\n",
       " 'New_pos': None,\n",
       " 'New_sol': None}"
      ]
     },
     "execution_count": 25,
     "metadata": {},
     "output_type": "execute_result"
    }
   ],
   "source": [
    "pop[0]"
   ]
  },
  {
   "cell_type": "code",
   "execution_count": null,
   "id": "19648fc3-0241-49e7-8dff-16dfb4c85a02",
   "metadata": {},
   "outputs": [],
   "source": [
    "#3 EXAMPLE TO USE \n",
    "\n",
    "\n",
    "import numpy as np\n",
    "import time\n",
    "\n",
    "import ray\n",
    "\n",
    "ray.shutdown()\n",
    "ray.init()\n",
    "\n",
    "# Define the function. Each remote function will be executed \n",
    "# in a separate process.\n",
    "@ray.remote\n",
    "def HeavyComputationThatIsThreadSafe(i, j):\n",
    "    n = i*j\n",
    "    time.sleep(0.5) # Simulate some heavy computation. \n",
    "    return n\n",
    "\n",
    "N = 10\n",
    "output_ids = []\n",
    "for i in range(N):\n",
    "    for j in range(N):\n",
    "        # Remote functions return a future, i.e, an identifier to the \n",
    "        # result, rather than the result itself. This allows invoking\n",
    "        # the next remote function before the previous finished, which\n",
    "        # leads to the remote functions being executed in parallel.\n",
    "        output_ids.append(HeavyComputationThatIsThreadSafe.remote(i,j))\n",
    "\n",
    "# Get results when ready.\n",
    "output_list = ray.get(output_ids)\n",
    "# Move results into an NxN numpy array.\n",
    "outputs = np.array(output_list).reshape(N, N)\n",
    "\n",
    "# This program should take approximately N*N*0.5s/p, where\n",
    "# p is the number of cores on your machine, N*N\n",
    "# is the number of times we invoke the remote function,\n",
    "# and 0.5s is the time it takes to execute one instance\n",
    "# of the remote function. For example, for two cores this\n",
    "# program will take approximately 25sec. "
   ]
  },
  {
   "cell_type": "code",
   "execution_count": 4,
   "id": "ce6fbf6e-4190-43e8-8588-9630edf8181e",
   "metadata": {},
   "outputs": [
    {
     "data": {
      "text/plain": [
       "array([[ 0,  0,  0,  0,  0,  0,  0,  0,  0,  0],\n",
       "       [ 0,  1,  2,  3,  4,  5,  6,  7,  8,  9],\n",
       "       [ 0,  2,  4,  6,  8, 10, 12, 14, 16, 18],\n",
       "       [ 0,  3,  6,  9, 12, 15, 18, 21, 24, 27],\n",
       "       [ 0,  4,  8, 12, 16, 20, 24, 28, 32, 36],\n",
       "       [ 0,  5, 10, 15, 20, 25, 30, 35, 40, 45],\n",
       "       [ 0,  6, 12, 18, 24, 30, 36, 42, 48, 54],\n",
       "       [ 0,  7, 14, 21, 28, 35, 42, 49, 56, 63],\n",
       "       [ 0,  8, 16, 24, 32, 40, 48, 56, 64, 72],\n",
       "       [ 0,  9, 18, 27, 36, 45, 54, 63, 72, 81]])"
      ]
     },
     "execution_count": 4,
     "metadata": {},
     "output_type": "execute_result"
    }
   ],
   "source": [
    "outputs"
   ]
  },
  {
   "cell_type": "code",
   "execution_count": 26,
   "id": "b0604ac5-79af-4f14-8beb-e779a90be2d5",
   "metadata": {},
   "outputs": [],
   "source": [
    "r = np.random.randint(1,4)\n"
   ]
  },
  {
   "cell_type": "code",
   "execution_count": 27,
   "id": "561d3e58-196d-4904-9062-9ab1fc9e0b82",
   "metadata": {},
   "outputs": [
    {
     "data": {
      "text/plain": [
       "1"
      ]
     },
     "execution_count": 27,
     "metadata": {},
     "output_type": "execute_result"
    }
   ],
   "source": [
    "s = np.random.randint(1,4)\n",
    "r = np.array(s)"
   ]
  },
  {
   "cell_type": "code",
   "execution_count": null,
   "id": "9e648a27-2182-4f99-9cf2-1774d04c3366",
   "metadata": {},
   "outputs": [],
   "source": [
    "r = np.random.randint(1,4)\n",
    "\n",
    "#encuentra cuantas mutaciones existen ya de tal metodo\n",
    "cant_actual = np.sum((r == mutation)*1)\n",
    "\n",
    "if cant_actual < len(mutation)/3:\n",
    "    mutation[i,0] = r\n",
    "else:\n",
    "    # Repite de nuevo el metodo a elegir\n",
    "    while cant_actual >= len(mutation)/3:\n",
    "\n",
    "        # vuelve a escribir los metodos de mutacion disponibles\n",
    "        vector = [1, 2, 3];  \n",
    "        vector[r-1] = 0\n",
    "        vector = np.array(vector)\n",
    "        new_vector = vector[vector!=0]\n",
    "\n",
    "        if np.random.uniform(0,1) < 0.5:\n",
    "            r = new_vector[0]\n",
    "        else:\n",
    "            r = new_vector[1]\n",
    "\n",
    "        cant_actual = np.sum((r == mutation)*1)\n",
    "        mutation[i,0] = r.copy()\n",
    "\n",
    "if r == 1:\n",
    "    mutation_rate = pm.copy()\n",
    "elif r == 2:\n",
    "    mutation_rate = 1\n",
    "\n",
    "# Generar mutacion\n",
    "\n",
    "if r == 1 or r == 2:\n",
    "\n",
    "     #x: vector de variables de decision por cada particula\n",
    "     # NUmero de variables\n",
    "    nVar=len(x);\n",
    "\n",
    "    # Numero aleatorio entero\n",
    "    j= np.random.randint(0,nVar)\n",
    "\n",
    "\n",
    "    # Mutacion respecto al rango maximo\n",
    "    dx = mutation_rate*(VarMax-VarMin)\n",
    "\n",
    "    # Selecciona el limite inferior de una variable de decision escogida al azar.\n",
    "    lb=x[j]-dx\n",
    "\n",
    "    ## Modificar valores de frontera de acuerdo a su existencia.\n",
    "\n",
    "    # en caso de ser un valor menor al minimo este se modifica para que\n",
    "    # solo toque la frontera inferior, impidiendo que la particula salga\n",
    "    # del lindero de variables posibles.\n",
    "\n",
    "    if lb<VarMin:\n",
    "        lb=VarMin.copy()\n",
    "\n",
    "    # no permitir que salga de la frontera maxima\n",
    "    ub=x[j]+dx\n",
    "\n",
    "    if ub > VarMax:\n",
    "        ub=VarMax.copy()\n",
    "\n",
    "    ## Se modifica la variable de decision escogida aleatoriamente.\n",
    "    xnew = x.copy()\n",
    "    xnew[j]=np.random.uniform(lb,ub)\n",
    "    NewSol = []\n",
    "   # NewSol = [] deepcopy(pop[i])\n",
    "    #NewSol= {'position':xnew}\n",
    "    NewSol= deepcopy({'position':xnew})\n",
    "    #NewSol_pos = xnew\n",
    "elif r == 3: # no mutation\n",
    "    xnew=x.copy()\n",
    "    #NewSol_pos = xnew\n",
    "    NewSol= []\n",
    "    NewSol= deepcopy({'position':xnew})\n",
    "    #NewSol_pos = xnew"
   ]
  }
 ],
 "metadata": {
  "kernelspec": {
   "display_name": "Python 3 (ipykernel)",
   "language": "python",
   "name": "python3"
  },
  "language_info": {
   "codemirror_mode": {
    "name": "ipython",
    "version": 3
   },
   "file_extension": ".py",
   "mimetype": "text/x-python",
   "name": "python",
   "nbconvert_exporter": "python",
   "pygments_lexer": "ipython3",
   "version": "3.9.7"
  }
 },
 "nbformat": 4,
 "nbformat_minor": 5
}
